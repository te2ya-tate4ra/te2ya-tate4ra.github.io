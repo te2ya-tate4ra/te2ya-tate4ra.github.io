{
  "cells": [
    {
      "cell_type": "markdown",
      "id": "5d2e8296-0efe-488a-9303-c53e0aac5573",
      "metadata": {
        "editable": true,
        "id": "5d2e8296-0efe-488a-9303-c53e0aac5573",
        "tags": []
      },
      "source": [
        "# 第1章: 準備運動"
      ]
    },
    {
      "cell_type": "markdown",
      "id": "b25a842d-828c-4fcd-b23e-62fcdbabc4dd",
      "metadata": {
        "editable": true,
        "id": "b25a842d-828c-4fcd-b23e-62fcdbabc4dd",
        "tags": []
      },
      "source": [
        "## 00. パタトクカシーー\n",
        "2つの文字列「パトカー」と「タクシー」の文字を先頭から交互に連結し、文字列「パタトクカシーー」を得よ。"
      ]
    },
    {
      "cell_type": "code",
      "source": [
        "str1 = \"パトカー\"\n",
        "str2 = \"タクシー\"\n",
        "\n",
        "result = \"\".join(a + b for a, b in zip(str1, str2))\n",
        "print(result)"
      ],
      "metadata": {
        "colab": {
          "base_uri": "https://localhost:8080/"
        },
        "id": "JQP2qg4YLuFc",
        "outputId": "e6cb6d4b-0b66-486c-bea4-520aebbdd905"
      },
      "id": "JQP2qg4YLuFc",
      "execution_count": 1,
      "outputs": [
        {
          "output_type": "stream",
          "name": "stdout",
          "text": [
            "パタトクカシーー\n"
          ]
        }
      ]
    },
    {
      "cell_type": "markdown",
      "id": "552596a9-f286-49b1-8443-ceb3454889e0",
      "metadata": {
        "editable": true,
        "id": "552596a9-f286-49b1-8443-ceb3454889e0",
        "tags": []
      },
      "source": [
        "## 01. タクシー\n",
        "文字列「パタトクカシーー」の2, 4, 6, 8文字目を取り出し、それらを連結した文字列を得よ。"
      ]
    },
    {
      "cell_type": "code",
      "source": [
        "text = \"パタトクカシーー\"\n",
        "# Pythonではインデックスが0から始まるので、2,4,6,8文字目はインデックス1,3,5,7\n",
        "result = text[1] + text[3] + text[5] + text[7]\n",
        "print(result)"
      ],
      "metadata": {
        "colab": {
          "base_uri": "https://localhost:8080/"
        },
        "id": "ZacFg8QH3McL",
        "outputId": "1eceead0-471f-4ead-fbba-7335686c091e"
      },
      "id": "ZacFg8QH3McL",
      "execution_count": 1,
      "outputs": [
        {
          "output_type": "stream",
          "name": "stdout",
          "text": [
            "タクシー\n"
          ]
        }
      ]
    },
    {
      "cell_type": "markdown",
      "id": "1c0a9a7c-4ade-4023-9f44-fc9cf394978b",
      "metadata": {
        "editable": true,
        "id": "1c0a9a7c-4ade-4023-9f44-fc9cf394978b",
        "tags": []
      },
      "source": [
        "## 02. 文字列の逆順\n",
        "文字列\"stressed\"の文字を逆に（末尾から先頭に向かって）並べた文字列を得よ。"
      ]
    },
    {
      "cell_type": "code",
      "source": [
        "text = \"stressed\"\n",
        "reversed_text = text[::-1]\n",
        "print(reversed_text)"
      ],
      "metadata": {
        "colab": {
          "base_uri": "https://localhost:8080/"
        },
        "id": "B9ZURZUL5EjE",
        "outputId": "10fdae98-d26d-4b38-df63-213ec140bd19"
      },
      "id": "B9ZURZUL5EjE",
      "execution_count": 2,
      "outputs": [
        {
          "output_type": "stream",
          "name": "stdout",
          "text": [
            "desserts\n"
          ]
        }
      ]
    },
    {
      "cell_type": "markdown",
      "id": "4161bcb5-5baf-4172-b2a6-7c14f1907d54",
      "metadata": {
        "id": "4161bcb5-5baf-4172-b2a6-7c14f1907d54"
      },
      "source": [
        "## 03. 円周率\n",
        "\"Now I need a drink, alcoholic of course, after the heavy lectures involving quantum mechanics.\"という文を単語に分解し、各単語の（アルファベットの）文字数を先頭から出現順に並べたリストを作成せよ。"
      ]
    },
    {
      "cell_type": "code",
      "source": [
        "import re\n",
        "\n",
        "sentence = \"Now I need a drink, alcoholic of course, after the heavy lectures involving quantum mechanics.\"\n",
        "\n",
        "# 単語を抽出（句読点を除外）\n",
        "words = re.findall(r'\\b\\w+\\b', sentence)\n",
        "\n",
        "# 各単語の文字数を取得（アルファベットのみをカウント）\n",
        "lengths = [len(word) for word in words]\n",
        "\n",
        "print(lengths)"
      ],
      "metadata": {
        "colab": {
          "base_uri": "https://localhost:8080/"
        },
        "id": "hdUs0TS0h4hA",
        "outputId": "0e0592de-8bfa-457d-b93d-979fc82a280f"
      },
      "id": "hdUs0TS0h4hA",
      "execution_count": 1,
      "outputs": [
        {
          "output_type": "stream",
          "name": "stdout",
          "text": [
            "[3, 1, 4, 1, 5, 9, 2, 6, 5, 3, 5, 8, 9, 7, 9]\n"
          ]
        }
      ]
    },
    {
      "cell_type": "markdown",
      "id": "8e56c958-d6fb-411c-9dc6-77992c515637",
      "metadata": {
        "id": "8e56c958-d6fb-411c-9dc6-77992c515637"
      },
      "source": [
        "## 04. 元素記号\n",
        "\"Hi He Lied Because Boron Could Not Oxidize Fluorine. New Nations Might Also Sign Peace Security Clause. Arthur King Can.\"という文を単語に分解し、1, 5, 6, 7, 8, 9, 15, 16, 19番目の単語は先頭の1文字、それ以外の単語は先頭の2文字を取り出し、取り出した文字列から単語の位置（先頭から何番目の単語か）への連想配列（辞書型もしくはマップ型）を作成せよ。"
      ]
    },
    {
      "cell_type": "code",
      "source": [
        "sentence = (\"Hi He Lied Because Boron Could Not Oxidize Fluorine. \"\n",
        "            \"New Nations Might Also Sign Peace Security Clause. \"\n",
        "            \"Arthur King Can.\")\n",
        "\n",
        "# ピリオドを除去して単語に分解\n",
        "words = sentence.replace(\".\", \"\").split()\n",
        "\n",
        "# 先頭1文字だけを使う単語の位置\n",
        "one_letter_positions = {1, 5, 6, 7, 8, 9, 15, 16, 19}\n",
        "\n",
        "# 辞書の作成\n",
        "element_symbol_map = {}\n",
        "for i, word in enumerate(words, start=1):\n",
        "    key = word[:1] if i in one_letter_positions else word[:2]\n",
        "    element_symbol_map[key] = i\n",
        "\n",
        "print(element_symbol_map)"
      ],
      "metadata": {
        "colab": {
          "base_uri": "https://localhost:8080/"
        },
        "id": "pZXkFTpvkQ2_",
        "outputId": "ff7e016e-b20f-4a4f-be9b-8ec1274bd19a"
      },
      "id": "pZXkFTpvkQ2_",
      "execution_count": 2,
      "outputs": [
        {
          "output_type": "stream",
          "name": "stdout",
          "text": [
            "{'H': 1, 'He': 2, 'Li': 3, 'Be': 4, 'B': 5, 'C': 6, 'N': 7, 'O': 8, 'F': 9, 'Ne': 10, 'Na': 11, 'Mi': 12, 'Al': 13, 'Si': 14, 'P': 15, 'S': 16, 'Cl': 17, 'Ar': 18, 'K': 19, 'Ca': 20}\n"
          ]
        }
      ]
    },
    {
      "cell_type": "markdown",
      "id": "5269dd34-1b19-4a99-9e3d-593e978f3361",
      "metadata": {
        "id": "5269dd34-1b19-4a99-9e3d-593e978f3361"
      },
      "source": [
        "## 05. n-gram\n",
        "与えられたシーケンス（文字列やリストなど）からn-gramを作る関数を作成せよ。この関数を用い、\"I am an NLPer\"という文から文字tri-gram、単語bi-gramを得よ。"
      ]
    },
    {
      "cell_type": "code",
      "source": [
        "def ngram(sequence, n):\n",
        "    return [sequence[i:i+n] for i in range(len(sequence) - n + 1)]\n",
        "\n",
        "text = \"I am an NLPer\"\n",
        "\n",
        "# 文字 tri-gram（空白も含む）\n",
        "char_trigram = ngram(text, 3)\n",
        "\n",
        "# 単語 bi-gram（空白で単語に分割）\n",
        "words = text.split()\n",
        "word_bigram = ngram(words, 2)\n",
        "\n",
        "print(\"文字 tri-gram:\", char_trigram)\n",
        "print(\"単語 bi-gram:\", word_bigram)"
      ],
      "metadata": {
        "colab": {
          "base_uri": "https://localhost:8080/"
        },
        "id": "asCyCZ9gkyKo",
        "outputId": "f4b523fa-8612-4b1b-bba8-79033172bd0f"
      },
      "id": "asCyCZ9gkyKo",
      "execution_count": 3,
      "outputs": [
        {
          "output_type": "stream",
          "name": "stdout",
          "text": [
            "文字 tri-gram: ['I a', ' am', 'am ', 'm a', ' an', 'an ', 'n N', ' NL', 'NLP', 'LPe', 'Per']\n",
            "単語 bi-gram: [['I', 'am'], ['am', 'an'], ['an', 'NLPer']]\n"
          ]
        }
      ]
    },
    {
      "cell_type": "markdown",
      "id": "15df1a31-7906-4562-b5c5-b52194487ea9",
      "metadata": {
        "id": "15df1a31-7906-4562-b5c5-b52194487ea9"
      },
      "source": [
        "## 06. 集合\n",
        "\"paraparaparadise\"と\"paragraph\"に含まれる文字bi-gramの集合を、それぞれ, $X$ と $Y$ として求め、$X$ と $Y$ の和集合（$X \\cup Y$）、積集合（$X \\cap Y$）、差集合（$X \\setminus Y$）を求めよ。さらに、'se'というbi-gramがXおよびYに含まれるかどうかを調べよ。"
      ]
    },
    {
      "cell_type": "code",
      "source": [
        "def ngram(sequence, n):\n",
        "    return [sequence[i:i+n] for i in range(len(sequence) - n + 1)]\n",
        "\n",
        "# 文字列\n",
        "str1 = \"paraparaparadise\"\n",
        "str2 = \"paragraph\"\n",
        "\n",
        "# bi-gram を集合で取得\n",
        "X = set(ngram(str1, 2))\n",
        "Y = set(ngram(str2, 2))\n",
        "\n",
        "# 集合演算\n",
        "union = X | Y          # 和集合\n",
        "intersection = X & Y   # 積集合\n",
        "difference = X - Y     # 差集合\n",
        "\n",
        "# 'se' が含まれているか\n",
        "se_in_X = 'se' in X\n",
        "se_in_Y = 'se' in Y\n",
        "\n",
        "# 出力\n",
        "print(\"X =\", X)\n",
        "print(\"Y =\", Y)\n",
        "print(\"和集合 (X ∪ Y) =\", union)\n",
        "print(\"積集合 (X ∩ Y) =\", intersection)\n",
        "print(\"差集合 (X − Y) =\", difference)\n",
        "print(\"'se' in X?:\", se_in_X)\n",
        "print(\"'se' in Y?:\", se_in_Y)"
      ],
      "metadata": {
        "colab": {
          "base_uri": "https://localhost:8080/"
        },
        "id": "ukxgjVRheDFo",
        "outputId": "4e9c67fd-38d7-4784-a28a-79b8a9e64947"
      },
      "id": "ukxgjVRheDFo",
      "execution_count": 1,
      "outputs": [
        {
          "output_type": "stream",
          "name": "stdout",
          "text": [
            "X = {'ad', 'ap', 'ra', 'di', 'is', 'pa', 'se', 'ar'}\n",
            "Y = {'ap', 'ra', 'ag', 'ph', 'pa', 'gr', 'ar'}\n",
            "和集合 (X ∪ Y) = {'ad', 'ap', 'ra', 'di', 'ag', 'ph', 'is', 'pa', 'se', 'gr', 'ar'}\n",
            "積集合 (X ∩ Y) = {'pa', 'ap', 'ra', 'ar'}\n",
            "差集合 (X − Y) = {'ad', 'se', 'di', 'is'}\n",
            "'se' in X?: True\n",
            "'se' in Y?: False\n"
          ]
        }
      ]
    },
    {
      "cell_type": "markdown",
      "id": "90b9bdde-e35c-4dc5-a46d-f7a8dd6d6513",
      "metadata": {
        "id": "90b9bdde-e35c-4dc5-a46d-f7a8dd6d6513"
      },
      "source": [
        "## 07. テンプレートによる文生成\n",
        "引数x, y, zを受け取り「x時のyはz」という文字列を返す関数を実装せよ。さらに、x=12, y=\"気温\", z=22.4として、実行結果を確認せよ。"
      ]
    },
    {
      "cell_type": "code",
      "source": [
        "def make_sentence(x, y, z):\n",
        "    return f\"{x}時の{y}は{z}\"\n",
        "\n",
        "# 実行例\n",
        "x = 12\n",
        "y = \"気温\"\n",
        "z = 22.4\n",
        "\n",
        "result = make_sentence(x, y, z)\n",
        "print(result)"
      ],
      "metadata": {
        "id": "XLACOaQwe9eR",
        "outputId": "7a705bb9-2811-4e23-b203-9bdc776e41d7",
        "colab": {
          "base_uri": "https://localhost:8080/"
        }
      },
      "id": "XLACOaQwe9eR",
      "execution_count": 2,
      "outputs": [
        {
          "output_type": "stream",
          "name": "stdout",
          "text": [
            "12時の気温は22.4\n"
          ]
        }
      ]
    },
    {
      "cell_type": "markdown",
      "id": "215bd86b-1b3c-4446-98ae-af5d671fba12",
      "metadata": {
        "id": "215bd86b-1b3c-4446-98ae-af5d671fba12"
      },
      "source": [
        "## 08. 暗号文\n",
        "与えられた文字列の各文字を、以下の仕様で変換する関数cipherを実装せよ。\n",
        "\n",
        "* 英小文字ならば (219 - 文字コード) のASCIIコードに対応する文字に置換\n",
        "* その他の文字はそのまま出力\n",
        "\n",
        "この関数を用い、英語のメッセージを暗号化・復号化せよ。"
      ]
    },
    {
      "cell_type": "code",
      "source": [
        "def cipher(text):\n",
        "    result = \"\"\n",
        "    for c in text:\n",
        "        if c.islower():\n",
        "            result += chr(219 - ord(c))\n",
        "        else:\n",
        "            result += c\n",
        "    return result\n",
        "\n",
        "# 例：暗号化と復号化\n",
        "original = \"Hello, World! abcxyz\"\n",
        "encrypted = cipher(original)\n",
        "decrypted = cipher(encrypted)\n",
        "\n",
        "print(\"元のメッセージ:\", original)\n",
        "print(\"暗号化:\", encrypted)\n",
        "print(\"復号化:\", decrypted)"
      ],
      "metadata": {
        "id": "CuqMaecpfwmb",
        "outputId": "f33dc0ee-768b-4066-9d8f-ca93c48970f6",
        "colab": {
          "base_uri": "https://localhost:8080/"
        }
      },
      "id": "CuqMaecpfwmb",
      "execution_count": 3,
      "outputs": [
        {
          "output_type": "stream",
          "name": "stdout",
          "text": [
            "元のメッセージ: Hello, World! abcxyz\n",
            "暗号化: Hvool, Wliow! zyxcba\n",
            "復号化: Hello, World! abcxyz\n"
          ]
        }
      ]
    },
    {
      "cell_type": "markdown",
      "id": "64c1bdae-5ce3-4128-86be-23ce079a2d98",
      "metadata": {
        "id": "64c1bdae-5ce3-4128-86be-23ce079a2d98"
      },
      "source": [
        "## 09. Typoglycemia\n",
        "スペースで区切られた単語列に対して、各単語の先頭と末尾の文字は残し、それ以外の文字の順序をランダムに並び替えるプログラムを作成せよ。ただし、長さが４以下の単語は並び替えないこととする。適当な英語の文（例えば\"I couldn't believe that I could actually understand what I was reading : the phenomenal power of the human mind .\"）を与え、その実行結果を確認せよ。"
      ]
    },
    {
      "cell_type": "code",
      "source": [
        "import random\n",
        "\n",
        "def typoglycemia(text):\n",
        "    def shuffle_word(word):\n",
        "        if len(word) <= 4:\n",
        "            return word\n",
        "        # 中間部分をシャッフル\n",
        "        middle = list(word[1:-1])\n",
        "        random.shuffle(middle)\n",
        "        return word[0] + ''.join(middle) + word[-1]\n",
        "\n",
        "    # スペースで分割し、各単語に処理を適用\n",
        "    words = text.split()\n",
        "    shuffled_words = [shuffle_word(word) for word in words]\n",
        "    return ' '.join(shuffled_words)\n",
        "\n",
        "# テスト用の文\n",
        "original = \"I couldn't believe that I could actually understand what I was reading : the phenomenal power of the human mind .\"\n",
        "result = typoglycemia(original)\n",
        "\n",
        "print(\"元の文:\")\n",
        "print(original)\n",
        "print(\"\\n変換後の文:\")\n",
        "print(result)"
      ],
      "metadata": {
        "id": "0v9gxfOSg1oB",
        "outputId": "8a1f9dc1-6605-4a9b-db76-ce44ba933394",
        "colab": {
          "base_uri": "https://localhost:8080/"
        }
      },
      "id": "0v9gxfOSg1oB",
      "execution_count": 4,
      "outputs": [
        {
          "output_type": "stream",
          "name": "stdout",
          "text": [
            "元の文:\n",
            "I couldn't believe that I could actually understand what I was reading : the phenomenal power of the human mind .\n",
            "\n",
            "変換後の文:\n",
            "I c'uodnlt blieeve that I cuold aaclltuy udstrnenad what I was riandeg : the pmenenhaol pweor of the hmuan mind .\n"
          ]
        }
      ]
    },
    {
      "cell_type": "code",
      "source": [],
      "metadata": {
        "id": "00RbN62ThBtu"
      },
      "id": "00RbN62ThBtu",
      "execution_count": null,
      "outputs": []
    }
  ],
  "metadata": {
    "colab": {
      "provenance": []
    },
    "kernelspec": {
      "display_name": "Python 3",
      "name": "python3"
    },
    "language_info": {
      "codemirror_mode": {
        "name": "ipython",
        "version": 3
      },
      "file_extension": ".py",
      "mimetype": "text/x-python",
      "name": "python",
      "nbconvert_exporter": "python",
      "pygments_lexer": "ipython3",
      "version": "3.12.3"
    }
  },
  "nbformat": 4,
  "nbformat_minor": 5
}