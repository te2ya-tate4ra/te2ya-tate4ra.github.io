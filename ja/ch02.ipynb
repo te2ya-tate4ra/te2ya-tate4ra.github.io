{
  "cells": [
    {
      "cell_type": "markdown",
      "id": "38daedde-589c-4cac-bf43-2b13485898cb",
      "metadata": {
        "editable": true,
        "id": "38daedde-589c-4cac-bf43-2b13485898cb",
        "tags": []
      },
      "source": [
        "# 第2章: UNIXコマンド\n",
        "\n",
        "[popular-names.txt](/data/popular-names.txt)は、アメリカで生まれた赤ちゃんの「名前」「性別」「人数」「年」をタブ区切り形式で格納したファイルである。以下の処理を行うプログラムを作成し、[popular-names.txt](/data/popular-names.txt)を入力ファイルとして実行せよ。さらに、同様の処理をUNIXコマンドでも実行し、プログラムの実行結果を確認せよ。"
      ]
    },
    {
      "cell_type": "markdown",
      "id": "d0cd8b46-ec72-459e-8cd4-285ac3601172",
      "metadata": {
        "editable": true,
        "id": "d0cd8b46-ec72-459e-8cd4-285ac3601172",
        "tags": []
      },
      "source": [
        "## 10. 行数のカウント\n",
        "ファイルの行数をカウントせよ。確認にはwcコマンドを用いよ。"
      ]
    },
    {
      "cell_type": "code",
      "source": [
        "import pandas as pd\n",
        "\n",
        "# ファイルの読み込み（タブ区切り、ヘッダーなし）\n",
        "url = \"https://nlp100.github.io/2025/_downloads/2ed3eac2611f4363de406df0a49805ae/popular-names.txt\"\n",
        "df = pd.read_csv(url, sep='\\t', header=None)\n",
        "\n",
        "# 行数をカウント\n",
        "num_rows = len(df)\n",
        "print(f\"行数: {num_rows}\")"
      ],
      "metadata": {
        "id": "68L2k6HNlGOE",
        "outputId": "2910467f-198d-42b8-ed4c-a84173af2bdf",
        "colab": {
          "base_uri": "https://localhost:8080/"
        }
      },
      "id": "68L2k6HNlGOE",
      "execution_count": 3,
      "outputs": [
        {
          "output_type": "stream",
          "name": "stdout",
          "text": [
            "行数: 2780\n"
          ]
        }
      ]
    },
    {
      "cell_type": "markdown",
      "id": "275b8ac0-17a1-4df2-9287-efae1f0c6740",
      "metadata": {
        "id": "275b8ac0-17a1-4df2-9287-efae1f0c6740"
      },
      "source": [
        "## 11. 先頭からN行を出力\n",
        "ファイルの先頭N行だけを表示せよ。例えば、N=10として先頭10行を表示せよ。確認にはheadコマンドを用いよ。"
      ]
    },
    {
      "cell_type": "code",
      "source": [
        "import pandas as pd\n",
        "\n",
        "# ファイルURL\n",
        "url = \"https://nlp100.github.io/2025/_downloads/2ed3eac2611f4363de406df0a49805ae/popular-names.txt\"\n",
        "\n",
        "# ファイル読み込み（タブ区切り）\n",
        "df = pd.read_csv(url, sep='\\t', header=None, names=[\"Name\", \"Sex\", \"Count\", \"Year\"])\n",
        "\n",
        "# 先頭10行を表示\n",
        "print(df.head(10))"
      ],
      "metadata": {
        "id": "qs1LVBpXmlTi",
        "outputId": "3d54ffe5-1f44-4521-8ad4-08965e33b7e0",
        "colab": {
          "base_uri": "https://localhost:8080/"
        }
      },
      "id": "qs1LVBpXmlTi",
      "execution_count": 5,
      "outputs": [
        {
          "output_type": "stream",
          "name": "stdout",
          "text": [
            "        Name Sex  Count  Year\n",
            "0       Mary   F   7065  1880\n",
            "1       Anna   F   2604  1880\n",
            "2       Emma   F   2003  1880\n",
            "3  Elizabeth   F   1939  1880\n",
            "4     Minnie   F   1746  1880\n",
            "5   Margaret   F   1578  1880\n",
            "6        Ida   F   1472  1880\n",
            "7      Alice   F   1414  1880\n",
            "8     Bertha   F   1320  1880\n",
            "9      Sarah   F   1288  1880\n"
          ]
        }
      ]
    },
    {
      "cell_type": "markdown",
      "id": "b7606710-56c9-4aea-90c8-48e57c3c73df",
      "metadata": {
        "id": "b7606710-56c9-4aea-90c8-48e57c3c73df"
      },
      "source": [
        "## 12. 末尾のN行を出力\n",
        "ファイルの末尾N行だけを表示せよ。例えば、N=10として末尾10行を表示せよ。確認にはtailコマンドを用いよ。"
      ]
    },
    {
      "cell_type": "code",
      "source": [
        "import pandas as pd\n",
        "\n",
        "# ファイルURL\n",
        "url = \"https://nlp100.github.io/2025/_downloads/2ed3eac2611f4363de406df0a49805ae/popular-names.txt\"\n",
        "\n",
        "# 読み込み（タブ区切り）\n",
        "df = pd.read_csv(url, sep='\\t', header=None, names=[\"Name\", \"Sex\", \"Count\", \"Year\"])\n",
        "\n",
        "# 末尾10行を表示\n",
        "print(df.tail(10))"
      ],
      "metadata": {
        "id": "AvrxXClxpIdB",
        "outputId": "b93fd2d9-252d-4380-ef0c-fe90756c128f",
        "colab": {
          "base_uri": "https://localhost:8080/"
        }
      },
      "id": "AvrxXClxpIdB",
      "execution_count": 6,
      "outputs": [
        {
          "output_type": "stream",
          "name": "stdout",
          "text": [
            "          Name Sex  Count  Year\n",
            "2770      Liam   M  19837  2018\n",
            "2771      Noah   M  18267  2018\n",
            "2772   William   M  14516  2018\n",
            "2773     James   M  13525  2018\n",
            "2774    Oliver   M  13389  2018\n",
            "2775  Benjamin   M  13381  2018\n",
            "2776    Elijah   M  12886  2018\n",
            "2777     Lucas   M  12585  2018\n",
            "2778     Mason   M  12435  2018\n",
            "2779     Logan   M  12352  2018\n"
          ]
        }
      ]
    },
    {
      "cell_type": "markdown",
      "id": "6ce5a4f0-b73a-43a0-be8c-c78142882e5c",
      "metadata": {
        "id": "6ce5a4f0-b73a-43a0-be8c-c78142882e5c"
      },
      "source": [
        "## 13. タブをスペースに置換\n",
        "ファイルの先頭10行に対して、タブ1文字につきスペース1文字に置換して出力せよ。確認にはsedコマンド、trコマンド、もしくはexpandコマンドなどを用いよ。"
      ]
    },
    {
      "cell_type": "code",
      "source": [
        "import pandas as pd\n",
        "\n",
        "# ファイルURL\n",
        "url = \"https://nlp100.github.io/2025/_downloads/2ed3eac2611f4363de406df0a49805ae/popular-names.txt\"\n",
        "\n",
        "# 読み込み（行単位で取得）\n",
        "import requests\n",
        "lines = requests.get(url).text.strip().split('\\n')\n",
        "\n",
        "# 先頭10行のタブをスペースに変換\n",
        "for line in lines[:10]:\n",
        "    print(line.replace('\\t', ' '))"
      ],
      "metadata": {
        "id": "w5gHQaa8ppbk",
        "outputId": "002db090-c649-4f06-ff64-d51eef242051",
        "colab": {
          "base_uri": "https://localhost:8080/"
        }
      },
      "id": "w5gHQaa8ppbk",
      "execution_count": 7,
      "outputs": [
        {
          "output_type": "stream",
          "name": "stdout",
          "text": [
            "Mary F 7065 1880\r\n",
            "Anna F 2604 1880\r\n",
            "Emma F 2003 1880\r\n",
            "Elizabeth F 1939 1880\r\n",
            "Minnie F 1746 1880\r\n",
            "Margaret F 1578 1880\r\n",
            "Ida F 1472 1880\r\n",
            "Alice F 1414 1880\r\n",
            "Bertha F 1320 1880\r\n",
            "Sarah F 1288 1880\r\n"
          ]
        }
      ]
    },
    {
      "cell_type": "markdown",
      "id": "eaef4ffb-c436-41ab-a649-e4d5fd385a76",
      "metadata": {
        "id": "eaef4ffb-c436-41ab-a649-e4d5fd385a76"
      },
      "source": [
        "## 14. 1列目を出力\n",
        "ファイルの先頭10行に対して、各行の1列目だけを抜き出して表示せよ。確認にはcutコマンドなどを用いよ。"
      ]
    },
    {
      "cell_type": "code",
      "source": [
        "import pandas as pd\n",
        "\n",
        "# ファイルURL\n",
        "url = \"https://nlp100.github.io/2025/_downloads/2ed3eac2611f4363de406df0a49805ae/popular-names.txt\"\n",
        "\n",
        "# 読み込み（列名をつけて）\n",
        "df = pd.read_csv(url, sep='\\t', header=None, names=[\"Name\", \"Sex\", \"Count\", \"Year\"])\n",
        "\n",
        "# 先頭10行の1列目（Name列）を表示\n",
        "print(df[\"Name\"].head(10))"
      ],
      "metadata": {
        "id": "a82AvWJpqCBL",
        "outputId": "7314ec31-0e1b-49f6-ea6c-62d5d84af9e9",
        "colab": {
          "base_uri": "https://localhost:8080/"
        }
      },
      "id": "a82AvWJpqCBL",
      "execution_count": 8,
      "outputs": [
        {
          "output_type": "stream",
          "name": "stdout",
          "text": [
            "0         Mary\n",
            "1         Anna\n",
            "2         Emma\n",
            "3    Elizabeth\n",
            "4       Minnie\n",
            "5     Margaret\n",
            "6          Ida\n",
            "7        Alice\n",
            "8       Bertha\n",
            "9        Sarah\n",
            "Name: Name, dtype: object\n"
          ]
        }
      ]
    },
    {
      "cell_type": "markdown",
      "id": "00c76a76-98bc-4ccc-918d-459b8d7954cf",
      "metadata": {
        "id": "00c76a76-98bc-4ccc-918d-459b8d7954cf"
      },
      "source": [
        "## 15. ファイルをN分割する\n",
        "ファイルを行単位でN分割し、別のファイルに格納せよ。例えば、N=10としてファイルを10分割せよ。同様の処理をsplitコマンドで実現せよ。"
      ]
    },
    {
      "cell_type": "code",
      "source": [
        "import requests\n",
        "from pathlib import Path\n",
        "\n",
        "# ファイル読み込み（インターネット経由）\n",
        "url = \"https://nlp100.github.io/2025/_downloads/2ed3eac2611f4363de406df0a49805ae/popular-names.txt\"\n",
        "lines = requests.get(url).text.strip().split('\\n')\n",
        "\n",
        "# 分割数 N\n",
        "N = 10\n",
        "chunk_size = len(lines) // N + (len(lines) % N > 0)\n",
        "\n",
        "# 出力ディレクトリ（必要に応じて作成）\n",
        "output_dir = Path(\"split_parts\")\n",
        "output_dir.mkdir(exist_ok=True)\n",
        "\n",
        "# 分割して保存\n",
        "for i in range(N):\n",
        "    chunk = lines[i * chunk_size : (i + 1) * chunk_size]\n",
        "    filename = output_dir / f\"popular-names_part_{i:02d}.txt\"\n",
        "    with open(filename, \"w\", encoding=\"utf-8\") as f:\n",
        "        f.write('\\n'.join(chunk) + '\\n')\n",
        "\n",
        "print(f\"{N}個のファイルに分割して保存しました。\")"
      ],
      "metadata": {
        "id": "RJCFe-Ldq1Ex",
        "outputId": "0488a7b3-f26b-4a9b-cd42-0148107b6ad6",
        "colab": {
          "base_uri": "https://localhost:8080/"
        }
      },
      "id": "RJCFe-Ldq1Ex",
      "execution_count": 9,
      "outputs": [
        {
          "output_type": "stream",
          "name": "stdout",
          "text": [
            "10個のファイルに分割して保存しました。\n"
          ]
        }
      ]
    },
    {
      "cell_type": "markdown",
      "id": "bc88859b-8a4d-4028-9aa4-684ab5ad9797",
      "metadata": {
        "id": "bc88859b-8a4d-4028-9aa4-684ab5ad9797"
      },
      "source": [
        "## 16. ランダムに各行を並び替える\n",
        "ファイルを行単位でランダムに並び替えよ（注意: 各行の内容は変更せずに並び替えよ）。同様の処理をshufコマンドで実現せよ。"
      ]
    },
    {
      "cell_type": "code",
      "source": [
        "import requests\n",
        "import random\n",
        "\n",
        "# ファイル読み込み（インターネット経由）\n",
        "url = \"https://nlp100.github.io/2025/_downloads/2ed3eac2611f4363de406df0a49805ae/popular-names.txt\"\n",
        "lines = requests.get(url).text.strip().split('\\n')\n",
        "\n",
        "# ランダムに並び替え（行の内容はそのまま）\n",
        "random.shuffle(lines)\n",
        "\n",
        "# 出力\n",
        "for line in lines[:10]:  # 最初の10行だけ表示\n",
        "    print(line)\n",
        "\n",
        "# 保存したい場合は以下のように書けます\n",
        "# with open(\"popular-names-shuffled.txt\", \"w\", encoding=\"utf-8\") as f:\n",
        "#     f.write('\\n'.join(lines) + '\\n')"
      ],
      "metadata": {
        "id": "mk0-D2GVq14l",
        "outputId": "3cf462d7-6341-4452-afde-ee10dd9273fc",
        "colab": {
          "base_uri": "https://localhost:8080/"
        }
      },
      "id": "mk0-D2GVq14l",
      "execution_count": 10,
      "outputs": [
        {
          "output_type": "stream",
          "name": "stdout",
          "text": [
            "Mia\tF\t13152\t2013\r\n",
            "Edward\tM\t2576\t1907\r\n",
            "James\tM\t30507\t1991\r\n",
            "Mary\tF\t13172\t1899\r\n",
            "Matthew\tM\t31514\t1997\r\n",
            "John\tM\t80790\t1956\r\n",
            "Helen\tF\t32508\t1922\r\n",
            "Justin\tM\t31492\t1987\r\n",
            "George\tM\t27375\t1924\r\n",
            "Thomas\tM\t6087\t1912\r\n"
          ]
        }
      ]
    },
    {
      "cell_type": "markdown",
      "id": "1041d23d-1a44-49c3-b95a-223fa9e3d3ae",
      "metadata": {
        "id": "1041d23d-1a44-49c3-b95a-223fa9e3d3ae"
      },
      "source": [
        "## 17. １列目の文字列の異なり\n",
        "1列目の文字列の異なり（文字列の種類）を求めよ。確認にはcut, sort, uniqコマンドを用いよ。"
      ]
    },
    {
      "cell_type": "code",
      "source": [
        "import pandas as pd\n",
        "\n",
        "# ファイルURL\n",
        "url = \"https://nlp100.github.io/2025/_downloads/2ed3eac2611f4363de406df0a49805ae/popular-names.txt\"\n",
        "\n",
        "# 読み込み（タブ区切り）\n",
        "df = pd.read_csv(url, sep='\\t', header=None, names=[\"Name\", \"Sex\", \"Count\", \"Year\"])\n",
        "\n",
        "# ユニークな名前一覧を取得\n",
        "unique_names = df[\"Name\"].unique()\n",
        "\n",
        "# 出力（例：先頭10件と種類数）\n",
        "print(\"ユニークな名前（先頭10件）:\", unique_names[:10])\n",
        "print(\"ユニークな名前の数:\", len(unique_names))"
      ],
      "metadata": {
        "id": "Dm8nNu21q2T5",
        "outputId": "419d263d-0a47-44e3-fc97-063dfcc82acd",
        "colab": {
          "base_uri": "https://localhost:8080/"
        }
      },
      "id": "Dm8nNu21q2T5",
      "execution_count": 11,
      "outputs": [
        {
          "output_type": "stream",
          "name": "stdout",
          "text": [
            "ユニークな名前（先頭10件）: ['Mary' 'Anna' 'Emma' 'Elizabeth' 'Minnie' 'Margaret' 'Ida' 'Alice'\n",
            " 'Bertha' 'Sarah']\n",
            "ユニークな名前の数: 136\n"
          ]
        }
      ]
    },
    {
      "cell_type": "markdown",
      "id": "3f5363e2-d751-40cc-958c-86d8b185089d",
      "metadata": {
        "id": "3f5363e2-d751-40cc-958c-86d8b185089d"
      },
      "source": [
        "## 18. 各行の1列目の文字列の出現頻度を求め、出現頻度の高い順に並べる\n",
        "1列目の文字列の出現頻度を求め、出現頻度と名前を出現頻度の多い順に並べて表示せよ。確認にはcut, uniq, sortコマンドを用いよ。"
      ]
    },
    {
      "cell_type": "code",
      "source": [
        "import pandas as pd\n",
        "\n",
        "# ファイルURL\n",
        "url = \"https://nlp100.github.io/2025/_downloads/2ed3eac2611f4363de406df0a49805ae/popular-names.txt\"\n",
        "\n",
        "# 読み込み（タブ区切り）\n",
        "df = pd.read_csv(url, sep='\\t', header=None, names=[\"Name\", \"Sex\", \"Count\", \"Year\"])\n",
        "\n",
        "# 名前ごとの出現回数を集計し、降順ソート\n",
        "name_counts = df[\"Name\"].value_counts()\n",
        "\n",
        "# 上位10件を表示\n",
        "print(name_counts.head(10))"
      ],
      "metadata": {
        "id": "k7yaPoTwq24v",
        "outputId": "2b9bcadb-bbb9-4c4a-c111-87ecb9f70695",
        "colab": {
          "base_uri": "https://localhost:8080/"
        }
      },
      "id": "k7yaPoTwq24v",
      "execution_count": 12,
      "outputs": [
        {
          "output_type": "stream",
          "name": "stdout",
          "text": [
            "Name\n",
            "James        118\n",
            "William      111\n",
            "Robert       108\n",
            "John         108\n",
            "Mary          92\n",
            "Charles       75\n",
            "Michael       74\n",
            "Elizabeth     73\n",
            "Joseph        70\n",
            "Margaret      60\n",
            "Name: count, dtype: int64\n"
          ]
        }
      ]
    },
    {
      "cell_type": "markdown",
      "id": "5ea1c928-6748-4f02-9e65-2110655b30d8",
      "metadata": {
        "id": "5ea1c928-6748-4f02-9e65-2110655b30d8"
      },
      "source": [
        "## 19. 3列目の数値の降順に各行を並び替える\n",
        "3列目の数値の逆順でファイルの各行を整列せよ（注意: 各行の内容は変更せずに並び替えよ）。同様の処理をsortコマンドで実現せよ。"
      ]
    },
    {
      "cell_type": "code",
      "source": [
        "import pandas as pd\n",
        "\n",
        "# ファイルURL\n",
        "url = \"https://nlp100.github.io/2025/_downloads/2ed3eac2611f4363de406df0a49805ae/popular-names.txt\"\n",
        "\n",
        "# 読み込み（タブ区切り）\n",
        "df = pd.read_csv(url, sep='\\t', header=None, names=[\"Name\", \"Sex\", \"Count\", \"Year\"])\n",
        "\n",
        "# 3列目（Count）で降順に並べ替え\n",
        "df_sorted = df.sort_values(by=\"Count\", ascending=False)\n",
        "\n",
        "# 結果表示（上位10件）\n",
        "print(df_sorted.head(10))"
      ],
      "metadata": {
        "id": "oVitpIxdq3bh",
        "outputId": "4ce24ab4-3e21-48de-fe1e-2d33fbd90474",
        "colab": {
          "base_uri": "https://localhost:8080/"
        }
      },
      "id": "oVitpIxdq3bh",
      "execution_count": 13,
      "outputs": [
        {
          "output_type": "stream",
          "name": "stdout",
          "text": [
            "         Name Sex  Count  Year\n",
            "1340    Linda   F  99689  1947\n",
            "1360    Linda   F  96211  1948\n",
            "1350    James   M  94757  1947\n",
            "1550  Michael   M  92704  1957\n",
            "1351   Robert   M  91640  1947\n",
            "1380    Linda   F  91016  1949\n",
            "1530  Michael   M  90656  1956\n",
            "1570  Michael   M  90517  1958\n",
            "1370    James   M  88584  1948\n",
            "1490  Michael   M  88528  1954\n"
          ]
        }
      ]
    },
    {
      "cell_type": "code",
      "source": [],
      "metadata": {
        "id": "0dsgi8nCsBWZ"
      },
      "id": "0dsgi8nCsBWZ",
      "execution_count": null,
      "outputs": []
    }
  ],
  "metadata": {
    "colab": {
      "provenance": []
    },
    "kernelspec": {
      "display_name": "Python 3 (ipykernel)",
      "language": "python",
      "name": "python3"
    },
    "language_info": {
      "codemirror_mode": {
        "name": "ipython",
        "version": 3
      },
      "file_extension": ".py",
      "mimetype": "text/x-python",
      "name": "python",
      "nbconvert_exporter": "python",
      "pygments_lexer": "ipython3",
      "version": "3.12.3"
    }
  },
  "nbformat": 4,
  "nbformat_minor": 5
}