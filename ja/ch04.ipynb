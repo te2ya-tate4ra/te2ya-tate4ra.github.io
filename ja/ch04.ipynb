{
  "cells": [
    {
      "cell_type": "markdown",
      "id": "4d5cd462-0ddc-48c0-848c-bc46be0af9fd",
      "metadata": {
        "editable": true,
        "id": "4d5cd462-0ddc-48c0-848c-bc46be0af9fd",
        "tags": []
      },
      "source": [
        "# 第4章: 言語解析\n",
        "\n",
        "問題30から問題35までは、以下の文章`text`（太宰治の『走れメロス』の冒頭部分）に対して、言語解析を実施せよ。問題36から問題39までは、国家を説明した文書群（日本語版ウィキペディア記事から抽出したテキスト群）をコーパスとして、言語解析を実施せよ。"
      ]
    },
    {
      "cell_type": "code",
      "execution_count": null,
      "id": "7e6766b0-630b-4b78-8312-27e6f8104e7b",
      "metadata": {
        "editable": true,
        "id": "7e6766b0-630b-4b78-8312-27e6f8104e7b",
        "tags": []
      },
      "outputs": [],
      "source": [
        "text = \"\"\"\n",
        "メロスは激怒した。\n",
        "必ず、かの邪智暴虐の王を除かなければならぬと決意した。\n",
        "メロスには政治がわからぬ。\n",
        "メロスは、村の牧人である。\n",
        "笛を吹き、羊と遊んで暮して来た。\n",
        "けれども邪悪に対しては、人一倍に敏感であった。\n",
        "\"\"\""
      ]
    },
    {
      "cell_type": "code",
      "source": [
        "# MeCab + 辞書 + Pythonバインディングをインストール\n",
        "#!apt-get -q install mecab libmecab-dev mecab-ipadic-utf8\n",
        "#!pip install -q mecab-python3\n",
        "\n",
        "# Colab 上で必要なパッケージをインストール\n",
        "!apt-get -q update\n",
        "!apt-get -q install -y mecab libmecab-dev mecab-ipadic-utf8\n",
        "!pip install mecab-python3"
      ],
      "metadata": {
        "id": "9h_ucbEJHtND",
        "outputId": "4c28b0c0-30b4-49b2-8c84-7068166a62c8",
        "colab": {
          "base_uri": "https://localhost:8080/"
        }
      },
      "id": "9h_ucbEJHtND",
      "execution_count": 32,
      "outputs": [
        {
          "output_type": "stream",
          "name": "stdout",
          "text": [
            "Get:1 https://cloud.r-project.org/bin/linux/ubuntu jammy-cran40/ InRelease [3,632 B]\n",
            "Get:2 https://developer.download.nvidia.com/compute/cuda/repos/ubuntu2204/x86_64  InRelease [1,581 B]\n",
            "Get:3 http://security.ubuntu.com/ubuntu jammy-security InRelease [129 kB]\n",
            "Get:4 https://r2u.stat.illinois.edu/ubuntu jammy InRelease [6,555 B]\n",
            "Hit:5 http://archive.ubuntu.com/ubuntu jammy InRelease\n",
            "Get:6 http://archive.ubuntu.com/ubuntu jammy-updates InRelease [128 kB]\n",
            "Get:7 https://developer.download.nvidia.com/compute/cuda/repos/ubuntu2204/x86_64  Packages [1,765 kB]\n",
            "Hit:8 https://ppa.launchpadcontent.net/deadsnakes/ppa/ubuntu jammy InRelease\n",
            "Hit:9 https://ppa.launchpadcontent.net/graphics-drivers/ppa/ubuntu jammy InRelease\n",
            "Get:10 https://r2u.stat.illinois.edu/ubuntu jammy/main all Packages [9,017 kB]\n",
            "Hit:11 https://ppa.launchpadcontent.net/ubuntugis/ppa/ubuntu jammy InRelease\n",
            "Get:12 http://archive.ubuntu.com/ubuntu jammy-backports InRelease [127 kB]\n",
            "Get:13 https://r2u.stat.illinois.edu/ubuntu jammy/main amd64 Packages [2,744 kB]\n",
            "Get:14 http://security.ubuntu.com/ubuntu jammy-security/main amd64 Packages [2,984 kB]\n",
            "Get:15 http://archive.ubuntu.com/ubuntu jammy-updates/universe amd64 Packages [1,553 kB]\n",
            "Get:16 http://archive.ubuntu.com/ubuntu jammy-updates/main amd64 Packages [3,295 kB]\n",
            "Fetched 21.8 MB in 3s (8,017 kB/s)\n",
            "Reading package lists...\n",
            "W: Skipping acquire of configured file 'main/source/Sources' as repository 'https://r2u.stat.illinois.edu/ubuntu jammy InRelease' does not seem to provide it (sources.list entry misspelt?)\n",
            "Reading package lists...\n",
            "Building dependency tree...\n",
            "Reading state information...\n",
            "libmecab-dev is already the newest version (0.996-14build9).\n",
            "mecab-ipadic-utf8 is already the newest version (2.7.0-20070801+main-3).\n",
            "mecab is already the newest version (0.996-14build9).\n",
            "0 upgraded, 0 newly installed, 0 to remove and 35 not upgraded.\n",
            "Requirement already satisfied: mecab-python3 in /usr/local/lib/python3.11/dist-packages (1.0.10)\n"
          ]
        }
      ]
    },
    {
      "cell_type": "code",
      "source": [
        "!mecab-config --dicdir"
      ],
      "metadata": {
        "id": "oBwDBANa3l7H",
        "outputId": "9ed86693-095c-4ea6-b978-faaa797500f5",
        "colab": {
          "base_uri": "https://localhost:8080/"
        }
      },
      "id": "oBwDBANa3l7H",
      "execution_count": 36,
      "outputs": [
        {
          "output_type": "stream",
          "name": "stdout",
          "text": [
            "/usr/lib/x86_64-linux-gnu/mecab/dic\n"
          ]
        }
      ]
    },
    {
      "cell_type": "code",
      "source": [
        "# mecab-config --dicdir の結果が /usr/lib/x86_64-linux-gnu/mecab/dic だった場合\n",
        "!ls -F /usr/lib/mecab/dic/"
      ],
      "metadata": {
        "id": "AGG_G8Dt54AN",
        "outputId": "7aad4aea-f8e7-4d89-aeb6-1a9f0978a9a9",
        "colab": {
          "base_uri": "https://localhost:8080/"
        }
      },
      "id": "AGG_G8Dt54AN",
      "execution_count": 37,
      "outputs": [
        {
          "output_type": "stream",
          "name": "stdout",
          "text": [
            "ls: cannot access '/usr/lib/mecab/dic/': No such file or directory\n"
          ]
        }
      ]
    },
    {
      "cell_type": "markdown",
      "id": "80e3790d-077d-453a-b981-964f609fc4be",
      "metadata": {
        "id": "80e3790d-077d-453a-b981-964f609fc4be"
      },
      "source": [
        "## 30. 動詞\n",
        "文章`text`に含まれる動詞をすべて表示せよ。"
      ]
    },
    {
      "cell_type": "code",
      "source": [
        "import MeCab\n",
        "#import os # Import the os module to potentially set environment variables later if needed\n",
        "\n",
        "# 解析対象テキスト（太宰治『走れメロス』冒頭）\n",
        "text = \"\"\"\n",
        "メロスは激怒した。\n",
        "必ず、かの邪智暴虐の王を除かなければならぬと決意した。\n",
        "メロスには政治がわからぬ。\n",
        "メロスは、村の牧人である。\n",
        "笛を吹き、羊と遊んで暮して来た。\n",
        "けれども邪悪に対しては、人一倍に敏感であった。\n",
        "\"\"\"\n",
        "\n",
        "# MeCabを初期化（辞書パスを明示的に指定）\n",
        "# Colab環境では、mecab-ipadic-utf8の辞書は通常 /usr/lib/mecab/dic/mecab-ipadic-utf8 にインストールされます。\n",
        "#tagger = MeCab.Tagger(\"/usr/lib/x86_64-linux-gnu/mecab/dic/mecab-ipadic-utf8\")\n",
        "tagger = MeCab.Tagger()\n",
        "#tagger = MeCab.Tagger(\"-Ochasen\")\n",
        "\n",
        "\n",
        "# 解析・動詞の原形を抽出\n",
        "node = tagger.parseToNode(text)\n",
        "verbs = []\n",
        "\n",
        "while node:\n",
        "    # ノードがnullでないことを確認\n",
        "    if node.surface is not None:\n",
        "        features = node.feature.split(',')\n",
        "        # featuresリストが少なくとも7つの要素を持っているか確認し、動詞かつ原形が存在する場合に抽出\n",
        "        if len(features) > 6 and features[0] == '動詞':\n",
        "            verbs.append(features[6])  # 原形\n",
        "    node = node.next\n",
        "\n",
        "# 出力\n",
        "print(\"動詞（原形）一覧:\")\n",
        "print(verbs)"
      ],
      "metadata": {
        "id": "vqX9IBI5Hdmk",
        "outputId": "3b1a0b95-c16c-4ed0-f5b6-afb976d6c3eb",
        "colab": {
          "base_uri": "https://localhost:8080/",
          "height": 720
        }
      },
      "id": "vqX9IBI5Hdmk",
      "execution_count": 34,
      "outputs": [
        {
          "output_type": "error",
          "ename": "RuntimeError",
          "evalue": "\n----------------------------------------------------------\n\nFailed initializing MeCab. Please see the README for possible solutions:\n\n    https://github.com/SamuraiT/mecab-python3#common-issues\n\nIf you are still having trouble, please file an issue here, and include the\nERROR DETAILS below:\n\n    https://github.com/SamuraiT/mecab-python3/issues\n\nissueを英語で書く必要はありません。\n\n------------------- ERROR DETAILS ------------------------\narguments: \ndefault dictionary path: None\n[ifs] no such file or directory: /usr/local/etc/mecabrc\n----------------------------------------------------------\n",
          "traceback": [
            "\u001b[0;31m---------------------------------------------------------------------------\u001b[0m",
            "\u001b[0;31mRuntimeError\u001b[0m                              Traceback (most recent call last)",
            "\u001b[0;32m/usr/local/lib/python3.11/dist-packages/MeCab/__init__.py\u001b[0m in \u001b[0;36m__init__\u001b[0;34m(self, rawargs)\u001b[0m\n\u001b[1;32m    136\u001b[0m         \u001b[0;32mtry\u001b[0m\u001b[0;34m:\u001b[0m\u001b[0;34m\u001b[0m\u001b[0;34m\u001b[0m\u001b[0m\n\u001b[0;32m--> 137\u001b[0;31m             \u001b[0msuper\u001b[0m\u001b[0;34m(\u001b[0m\u001b[0mTagger\u001b[0m\u001b[0;34m,\u001b[0m \u001b[0mself\u001b[0m\u001b[0;34m)\u001b[0m\u001b[0;34m.\u001b[0m\u001b[0m__init__\u001b[0m\u001b[0;34m(\u001b[0m\u001b[0margs\u001b[0m\u001b[0;34m)\u001b[0m\u001b[0;34m\u001b[0m\u001b[0;34m\u001b[0m\u001b[0m\n\u001b[0m\u001b[1;32m    138\u001b[0m         \u001b[0;32mexcept\u001b[0m \u001b[0mRuntimeError\u001b[0m \u001b[0;32mas\u001b[0m \u001b[0mee\u001b[0m\u001b[0;34m:\u001b[0m\u001b[0;34m\u001b[0m\u001b[0;34m\u001b[0m\u001b[0m\n",
            "\u001b[0;31mRuntimeError\u001b[0m: ",
            "\nThe above exception was the direct cause of the following exception:\n",
            "\u001b[0;31mRuntimeError\u001b[0m                              Traceback (most recent call last)",
            "\u001b[0;32m<ipython-input-34-e55ee28393bc>\u001b[0m in \u001b[0;36m<cell line: 0>\u001b[0;34m()\u001b[0m\n\u001b[1;32m     15\u001b[0m \u001b[0;31m# Colab環境では、mecab-ipadic-utf8の辞書は通常 /usr/lib/mecab/dic/mecab-ipadic-utf8 にインストールされます。\u001b[0m\u001b[0;34m\u001b[0m\u001b[0;34m\u001b[0m\u001b[0m\n\u001b[1;32m     16\u001b[0m \u001b[0;31m#tagger = MeCab.Tagger(\"/usr/lib/x86_64-linux-gnu/mecab/dic/mecab-ipadic-utf8\")\u001b[0m\u001b[0;34m\u001b[0m\u001b[0;34m\u001b[0m\u001b[0m\n\u001b[0;32m---> 17\u001b[0;31m \u001b[0mtagger\u001b[0m \u001b[0;34m=\u001b[0m \u001b[0mMeCab\u001b[0m\u001b[0;34m.\u001b[0m\u001b[0mTagger\u001b[0m\u001b[0;34m(\u001b[0m\u001b[0;34m)\u001b[0m\u001b[0;34m\u001b[0m\u001b[0;34m\u001b[0m\u001b[0m\n\u001b[0m\u001b[1;32m     18\u001b[0m \u001b[0;31m#tagger = MeCab.Tagger(\"-Ochasen\")\u001b[0m\u001b[0;34m\u001b[0m\u001b[0;34m\u001b[0m\u001b[0m\n\u001b[1;32m     19\u001b[0m \u001b[0;34m\u001b[0m\u001b[0m\n",
            "\u001b[0;32m/usr/local/lib/python3.11/dist-packages/MeCab/__init__.py\u001b[0m in \u001b[0;36m__init__\u001b[0;34m(self, rawargs)\u001b[0m\n\u001b[1;32m    137\u001b[0m             \u001b[0msuper\u001b[0m\u001b[0;34m(\u001b[0m\u001b[0mTagger\u001b[0m\u001b[0;34m,\u001b[0m \u001b[0mself\u001b[0m\u001b[0;34m)\u001b[0m\u001b[0;34m.\u001b[0m\u001b[0m__init__\u001b[0m\u001b[0;34m(\u001b[0m\u001b[0margs\u001b[0m\u001b[0;34m)\u001b[0m\u001b[0;34m\u001b[0m\u001b[0;34m\u001b[0m\u001b[0m\n\u001b[1;32m    138\u001b[0m         \u001b[0;32mexcept\u001b[0m \u001b[0mRuntimeError\u001b[0m \u001b[0;32mas\u001b[0m \u001b[0mee\u001b[0m\u001b[0;34m:\u001b[0m\u001b[0;34m\u001b[0m\u001b[0;34m\u001b[0m\u001b[0m\n\u001b[0;32m--> 139\u001b[0;31m             \u001b[0;32mraise\u001b[0m \u001b[0mRuntimeError\u001b[0m\u001b[0;34m(\u001b[0m\u001b[0merror_info\u001b[0m\u001b[0;34m(\u001b[0m\u001b[0mrawargs\u001b[0m\u001b[0;34m)\u001b[0m\u001b[0;34m)\u001b[0m \u001b[0;32mfrom\u001b[0m \u001b[0mee\u001b[0m\u001b[0;34m\u001b[0m\u001b[0;34m\u001b[0m\u001b[0m\n\u001b[0m\u001b[1;32m    140\u001b[0m \u001b[0;34m\u001b[0m\u001b[0m\n\u001b[1;32m    141\u001b[0m \u001b[0;34m\u001b[0m\u001b[0m\n",
            "\u001b[0;31mRuntimeError\u001b[0m: \n----------------------------------------------------------\n\nFailed initializing MeCab. Please see the README for possible solutions:\n\n    https://github.com/SamuraiT/mecab-python3#common-issues\n\nIf you are still having trouble, please file an issue here, and include the\nERROR DETAILS below:\n\n    https://github.com/SamuraiT/mecab-python3/issues\n\nissueを英語で書く必要はありません。\n\n------------------- ERROR DETAILS ------------------------\narguments: \ndefault dictionary path: None\n[ifs] no such file or directory: /usr/local/etc/mecabrc\n----------------------------------------------------------\n"
          ]
        }
      ]
    },
    {
      "cell_type": "code",
      "source": [
        "# MeCabの辞書パスを取得して、明示的に指定\n",
        "import MeCab\n",
        "import subprocess\n",
        "\n",
        "# 辞書パス取得\n",
        "dicdir = subprocess.run(['mecab-config', '--dicdir'], capture_output=True, text=True).stdout.strip()\n",
        "mecab_args = f\"-d {dicdir}/mecab-ipadic\"\n",
        "\n",
        "# 解析器の初期化（辞書パスを指定）\n",
        "tagger = MeCab.Tagger(mecab_args)\n",
        "\n",
        "# 解析対象テキスト（太宰治『走れメロス』冒頭）\n",
        "text = \"\"\"\n",
        "メロスは激怒した。\n",
        "必ず、かの邪智暴虐の王を除かなければならぬと決意した。\n",
        "メロスには政治がわからぬ。\n",
        "メロスは、村の牧人である。\n",
        "笛を吹き、羊と遊んで暮して来た。\n",
        "けれども邪悪に対しては、人一倍に敏感であった。\n",
        "\"\"\"\n",
        "\n",
        "# 形態素解析＆動詞の抽出\n",
        "parsed = tagger.parse(text)\n",
        "verbs = []\n",
        "for line in parsed.splitlines():\n",
        "    if line == \"EOS\":\n",
        "        break\n",
        "    surface, features = line.split('\\t')\n",
        "    features_list = features.split(',')\n",
        "    if features_list[0] == '動詞':\n",
        "        verbs.append(surface)\n",
        "\n",
        "# 結果表示\n",
        "print(\"抽出された動詞:\")\n",
        "for v in verbs:\n",
        "    print(v)"
      ],
      "metadata": {
        "id": "SusfL8iD8MnF",
        "outputId": "511fc007-a662-463d-adda-72c09eabc053",
        "colab": {
          "base_uri": "https://localhost:8080/",
          "height": 720
        }
      },
      "id": "SusfL8iD8MnF",
      "execution_count": 39,
      "outputs": [
        {
          "output_type": "error",
          "ename": "RuntimeError",
          "evalue": "\n----------------------------------------------------------\n\nFailed initializing MeCab. Please see the README for possible solutions:\n\n    https://github.com/SamuraiT/mecab-python3#common-issues\n\nIf you are still having trouble, please file an issue here, and include the\nERROR DETAILS below:\n\n    https://github.com/SamuraiT/mecab-python3/issues\n\nissueを英語で書く必要はありません。\n\n------------------- ERROR DETAILS ------------------------\narguments: -d /usr/lib/x86_64-linux-gnu/mecab/dic/mecab-ipadic\ndefault dictionary path: None\n[ifs] no such file or directory: /usr/local/etc/mecabrc\n----------------------------------------------------------\n",
          "traceback": [
            "\u001b[0;31m---------------------------------------------------------------------------\u001b[0m",
            "\u001b[0;31mRuntimeError\u001b[0m                              Traceback (most recent call last)",
            "\u001b[0;32m/usr/local/lib/python3.11/dist-packages/MeCab/__init__.py\u001b[0m in \u001b[0;36m__init__\u001b[0;34m(self, rawargs)\u001b[0m\n\u001b[1;32m    136\u001b[0m         \u001b[0;32mtry\u001b[0m\u001b[0;34m:\u001b[0m\u001b[0;34m\u001b[0m\u001b[0;34m\u001b[0m\u001b[0m\n\u001b[0;32m--> 137\u001b[0;31m             \u001b[0msuper\u001b[0m\u001b[0;34m(\u001b[0m\u001b[0mTagger\u001b[0m\u001b[0;34m,\u001b[0m \u001b[0mself\u001b[0m\u001b[0;34m)\u001b[0m\u001b[0;34m.\u001b[0m\u001b[0m__init__\u001b[0m\u001b[0;34m(\u001b[0m\u001b[0margs\u001b[0m\u001b[0;34m)\u001b[0m\u001b[0;34m\u001b[0m\u001b[0;34m\u001b[0m\u001b[0m\n\u001b[0m\u001b[1;32m    138\u001b[0m         \u001b[0;32mexcept\u001b[0m \u001b[0mRuntimeError\u001b[0m \u001b[0;32mas\u001b[0m \u001b[0mee\u001b[0m\u001b[0;34m:\u001b[0m\u001b[0;34m\u001b[0m\u001b[0;34m\u001b[0m\u001b[0m\n",
            "\u001b[0;31mRuntimeError\u001b[0m: ",
            "\nThe above exception was the direct cause of the following exception:\n",
            "\u001b[0;31mRuntimeError\u001b[0m                              Traceback (most recent call last)",
            "\u001b[0;32m<ipython-input-39-fc82f8da6d71>\u001b[0m in \u001b[0;36m<cell line: 0>\u001b[0;34m()\u001b[0m\n\u001b[1;32m      8\u001b[0m \u001b[0;34m\u001b[0m\u001b[0m\n\u001b[1;32m      9\u001b[0m \u001b[0;31m# 解析器の初期化（辞書パスを指定）\u001b[0m\u001b[0;34m\u001b[0m\u001b[0;34m\u001b[0m\u001b[0m\n\u001b[0;32m---> 10\u001b[0;31m \u001b[0mtagger\u001b[0m \u001b[0;34m=\u001b[0m \u001b[0mMeCab\u001b[0m\u001b[0;34m.\u001b[0m\u001b[0mTagger\u001b[0m\u001b[0;34m(\u001b[0m\u001b[0mmecab_args\u001b[0m\u001b[0;34m)\u001b[0m\u001b[0;34m\u001b[0m\u001b[0;34m\u001b[0m\u001b[0m\n\u001b[0m\u001b[1;32m     11\u001b[0m \u001b[0;34m\u001b[0m\u001b[0m\n\u001b[1;32m     12\u001b[0m \u001b[0;31m# 解析対象テキスト（太宰治『走れメロス』冒頭）\u001b[0m\u001b[0;34m\u001b[0m\u001b[0;34m\u001b[0m\u001b[0m\n",
            "\u001b[0;32m/usr/local/lib/python3.11/dist-packages/MeCab/__init__.py\u001b[0m in \u001b[0;36m__init__\u001b[0;34m(self, rawargs)\u001b[0m\n\u001b[1;32m    137\u001b[0m             \u001b[0msuper\u001b[0m\u001b[0;34m(\u001b[0m\u001b[0mTagger\u001b[0m\u001b[0;34m,\u001b[0m \u001b[0mself\u001b[0m\u001b[0;34m)\u001b[0m\u001b[0;34m.\u001b[0m\u001b[0m__init__\u001b[0m\u001b[0;34m(\u001b[0m\u001b[0margs\u001b[0m\u001b[0;34m)\u001b[0m\u001b[0;34m\u001b[0m\u001b[0;34m\u001b[0m\u001b[0m\n\u001b[1;32m    138\u001b[0m         \u001b[0;32mexcept\u001b[0m \u001b[0mRuntimeError\u001b[0m \u001b[0;32mas\u001b[0m \u001b[0mee\u001b[0m\u001b[0;34m:\u001b[0m\u001b[0;34m\u001b[0m\u001b[0;34m\u001b[0m\u001b[0m\n\u001b[0;32m--> 139\u001b[0;31m             \u001b[0;32mraise\u001b[0m \u001b[0mRuntimeError\u001b[0m\u001b[0;34m(\u001b[0m\u001b[0merror_info\u001b[0m\u001b[0;34m(\u001b[0m\u001b[0mrawargs\u001b[0m\u001b[0;34m)\u001b[0m\u001b[0;34m)\u001b[0m \u001b[0;32mfrom\u001b[0m \u001b[0mee\u001b[0m\u001b[0;34m\u001b[0m\u001b[0;34m\u001b[0m\u001b[0m\n\u001b[0m\u001b[1;32m    140\u001b[0m \u001b[0;34m\u001b[0m\u001b[0m\n\u001b[1;32m    141\u001b[0m \u001b[0;34m\u001b[0m\u001b[0m\n",
            "\u001b[0;31mRuntimeError\u001b[0m: \n----------------------------------------------------------\n\nFailed initializing MeCab. Please see the README for possible solutions:\n\n    https://github.com/SamuraiT/mecab-python3#common-issues\n\nIf you are still having trouble, please file an issue here, and include the\nERROR DETAILS below:\n\n    https://github.com/SamuraiT/mecab-python3/issues\n\nissueを英語で書く必要はありません。\n\n------------------- ERROR DETAILS ------------------------\narguments: -d /usr/lib/x86_64-linux-gnu/mecab/dic/mecab-ipadic\ndefault dictionary path: None\n[ifs] no such file or directory: /usr/local/etc/mecabrc\n----------------------------------------------------------\n"
          ]
        }
      ]
    },
    {
      "cell_type": "markdown",
      "id": "5fd1d613-8375-4837-b534-a01451eddf98",
      "metadata": {
        "id": "5fd1d613-8375-4837-b534-a01451eddf98"
      },
      "source": [
        "## 31. 動詞の原型\n",
        "文章`text`に含まれる動詞と、その原型をすべて表示せよ。"
      ]
    },
    {
      "cell_type": "markdown",
      "id": "34558343-a286-429b-b3ee-b1e6b3ca4561",
      "metadata": {
        "id": "34558343-a286-429b-b3ee-b1e6b3ca4561"
      },
      "source": [
        "## 32. 「AのB」\n",
        "文章`text`において、2つの名詞が「の」で連結されている名詞句をすべて抽出せよ。"
      ]
    },
    {
      "cell_type": "markdown",
      "id": "7cac9c74-cd83-42d3-8cde-a4a0f4200094",
      "metadata": {
        "id": "7cac9c74-cd83-42d3-8cde-a4a0f4200094"
      },
      "source": [
        "## 33. 係り受け解析\n",
        "\n",
        "文章`text`に係り受け解析を適用し、係り元と係り先のトークン（形態素や文節などの単位）をタブ区切り形式ですべて抽出せよ。"
      ]
    },
    {
      "cell_type": "markdown",
      "id": "eb49b4d2-9869-4f43-9cd8-9e79e0c1b40f",
      "metadata": {
        "id": "eb49b4d2-9869-4f43-9cd8-9e79e0c1b40f"
      },
      "source": [
        "## 34. 主述の関係\n",
        "文章`text`において、「メロス」が主語であるときの述語を抽出せよ。"
      ]
    },
    {
      "cell_type": "markdown",
      "id": "ec8ba153-85e7-4cbe-bcc0-bb659409d494",
      "metadata": {
        "id": "ec8ba153-85e7-4cbe-bcc0-bb659409d494"
      },
      "source": [
        "## 35. 係り受け木\n",
        "「メロスは激怒した。」の係り受け木を可視化せよ。"
      ]
    },
    {
      "cell_type": "markdown",
      "id": "b880d760-ea6c-4722-9a65-5b97a02ed192",
      "metadata": {
        "id": "b880d760-ea6c-4722-9a65-5b97a02ed192"
      },
      "source": [
        "## 36. 単語の出現頻度\n",
        "\n",
        "問題36から39までは、Wikipediaの記事を以下のフォーマットで書き出したファイル[jawiki-country.json.gz](/data/jawiki-country.json.gz)をコーパスと見なし、統計的な分析を行う。\n",
        "\n",
        "* 1行に1記事の情報がJSON形式で格納される\n",
        "* 各行には記事名が\"title\"キーに、記事本文が\"text\"キーの辞書オブジェクトに格納され、そのオブジェクトがJSON形式で書き出される\n",
        "* ファイル全体はgzipで圧縮される\n",
        "\n",
        "まず、第3章の処理内容を参考に、Wikipedia記事からマークアップを除去し、各記事のテキストを抽出せよ。そして、コーパスにおける単語（形態素）の出現頻度を求め、出現頻度の高い20語とその出現頻度を表示せよ。"
      ]
    },
    {
      "cell_type": "markdown",
      "id": "e38bd27c-0644-4468-8b4d-99318b91c0cb",
      "metadata": {
        "id": "e38bd27c-0644-4468-8b4d-99318b91c0cb"
      },
      "source": [
        "## 37. 名詞の出現頻度\n",
        "コーパスにおける名詞の出現頻度を求め、出現頻度の高い20語とその出現頻度を表示せよ。"
      ]
    },
    {
      "cell_type": "markdown",
      "id": "8a64fda0-5ee3-48ad-9071-f37f805951d3",
      "metadata": {
        "id": "8a64fda0-5ee3-48ad-9071-f37f805951d3"
      },
      "source": [
        "## 38. TF・IDF\n",
        "日本に関する記事における名詞のTF・IDFスコアを求め、TF・IDFスコア上位20語とそのTF, IDF, TF・IDFを表示せよ。"
      ]
    },
    {
      "cell_type": "markdown",
      "id": "5f3b60e9-5d8e-4c2e-a68d-385c91713113",
      "metadata": {
        "id": "5f3b60e9-5d8e-4c2e-a68d-385c91713113"
      },
      "source": [
        "## 39. Zipfの法則\n",
        "コーパスにおける単語の出現頻度順位を横軸、その出現頻度を縦軸として、両対数グラフをプロットせよ。"
      ]
    }
  ],
  "metadata": {
    "colab": {
      "provenance": []
    },
    "kernelspec": {
      "display_name": "Python 3 (ipykernel)",
      "language": "python",
      "name": "python3"
    },
    "language_info": {
      "codemirror_mode": {
        "name": "ipython",
        "version": 3
      },
      "file_extension": ".py",
      "mimetype": "text/x-python",
      "name": "python",
      "nbconvert_exporter": "python",
      "pygments_lexer": "ipython3",
      "version": "3.12.3"
    }
  },
  "nbformat": 4,
  "nbformat_minor": 5
}